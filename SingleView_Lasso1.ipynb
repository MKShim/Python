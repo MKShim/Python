{
  "nbformat": 4,
  "nbformat_minor": 0,
  "metadata": {
    "colab": {
      "provenance": [],
      "collapsed_sections": [],
      "authorship_tag": "ABX9TyMI4WtiKNJWLNUWMWTLkTnh",
      "include_colab_link": true
    },
    "kernelspec": {
      "name": "python3",
      "display_name": "Python 3"
    },
    "language_info": {
      "name": "python"
    },
    "accelerator": "GPU"
  },
  "cells": [
    {
      "cell_type": "markdown",
      "metadata": {
        "id": "view-in-github",
        "colab_type": "text"
      },
      "source": [
        "<a href=\"https://colab.research.google.com/github/MKShim/Python/blob/main/SingleView_Lasso1.ipynb\" target=\"_parent\"><img src=\"https://colab.research.google.com/assets/colab-badge.svg\" alt=\"Open In Colab\"/></a>"
      ]
    },
    {
      "cell_type": "code",
      "execution_count": null,
      "metadata": {
        "id": "BM6Q2nD40Hnx"
      },
      "outputs": [],
      "source": [
        "import numpy as np\n",
        "import pandas as pd\n",
        "import tensorflow as tf\n",
        "from numpy import linalg as la\n",
        "from scipy import sparse\n",
        "import scipy.linalg as linalg\n",
        "import matplotlib.pyplot as plt"
      ]
    },
    {
      "cell_type": "code",
      "source": [
        "from google.colab import drive\n",
        "drive.mount('/content/gdrive')"
      ],
      "metadata": {
        "colab": {
          "base_uri": "https://localhost:8080/"
        },
        "id": "ln1lvEK00kmJ",
        "outputId": "135a14c0-c53f-43ad-b32a-fcd8e133ac5a"
      },
      "execution_count": null,
      "outputs": [
        {
          "output_type": "stream",
          "name": "stdout",
          "text": [
            "Mounted at /content/gdrive\n"
          ]
        }
      ]
    },
    {
      "cell_type": "code",
      "source": [
        "mirna = pd.read_csv('/content/gdrive/My Drive/Colab Notebooks/Opt/dataFiles/all_mirna.csv')\n",
        "X = np.array(mirna)"
      ],
      "metadata": {
        "id": "vsWvDqLK0qYB"
      },
      "execution_count": null,
      "outputs": []
    },
    {
      "cell_type": "code",
      "source": [
        "# Simple Lasso + ADMM algorithm"
      ],
      "metadata": {
        "id": "v9pa5YJJTDMq"
      },
      "execution_count": null,
      "outputs": []
    },
    {
      "cell_type": "code",
      "source": [
        "def coordinate_descent(z, x, nu, rho, lamb):\n",
        "    e_grad = x + nu*1.0/rho\n",
        "    rho = 1\n",
        "    # Regularization term gradient\n",
        "    # This will have a subgradient, with values as -lambda/rho, lambda/rho OR 0\n",
        "\n",
        "    # print(\"prev\",z)\n",
        "    z_t = np.zeros_like(z)\n",
        "\n",
        "    filter_less = -(1.0*lamb/rho)*(z<0)\n",
        "    # print(\"less\",filter_less)\n",
        "    filter_greater = (1.0*lamb/rho)*(z>0)\n",
        "    # print(\"gt\",filter_greater)\n",
        "\n",
        "    z_t = e_grad - filter_less - filter_greater\n",
        "    # print(z_t)\n",
        "    return(z_t)"
      ],
      "metadata": {
        "id": "IjahJUk6a4Dy"
      },
      "execution_count": null,
      "outputs": []
    },
    {
      "cell_type": "code",
      "source": [
        "A = X\n",
        "b = X\n",
        "\n",
        "#X_t = np.random.randn(7668,7668)\n",
        "X_t = np.zeros((7668,7668))\n",
        "z_t = np.zeros((7668,7668))\n",
        "rho = 1\n",
        "\n",
        "# nu_t = np.random.randn(d, 1)\n",
        "nu_t = np.zeros((7668,7668))\n",
        "num_iterations = 10\n",
        "\n",
        "print(A.shape,b.shape,X_t.shape,z_t.shape,rho,nu_t.shape)"
      ],
      "metadata": {
        "colab": {
          "base_uri": "https://localhost:8080/"
        },
        "id": "q3wRt4gSa38V",
        "outputId": "c5e0408f-0912-4f5a-f837-01fe79d2b76b"
      },
      "execution_count": null,
      "outputs": [
        {
          "output_type": "stream",
          "name": "stdout",
          "text": [
            "(2454, 7668) (2454, 7668) (7668, 7668) (7668, 7668) 1 (7668, 7668)\n"
          ]
        }
      ]
    },
    {
      "cell_type": "code",
      "source": [
        "# Initializations\n",
        "lamb = 0.1\n",
        "val = 0.5*np.linalg.norm(A.dot(X_t) - b, ord='fro')**2 + lamb*np.linalg.norm(X_t, ord=1)\n",
        "print(val)\n",
        "for iter in range(num_iterations):\n",
        "\n",
        "    # STEP 1: Calculate X_t\n",
        "    # This has a closed form solution\n",
        "    term1 = np.linalg.inv(A.T.dot(A) + rho)\n",
        "    term2 = A.T.dot(b) + rho*z_t -  nu_t\n",
        "    X_t = term1.dot(term2)\n",
        "    # print(term1.shape, term2.shape, X_t.shape)\n",
        "\n",
        "    # STEP 2: Calculate z_t\n",
        "    # Taking the prox, we get the lasso problem again, so, using coordinate_descent\n",
        "    lamb = 0.1\n",
        "    z_t = coordinate_descent(z_t, X_t, nu_t, rho, lamb)\n",
        "\n",
        "    # STEP 3: Update nu_t\n",
        "    nu_t = nu_t + rho*(X_t - z_t)\n",
        "    val = 0.5*np.linalg.norm(A.dot(X_t) - b, ord='fro')**2 + lamb*np.linalg.norm(X_t, ord=1)\n",
        "    print(val)\n",
        "    print(X_t)"
      ],
      "metadata": {
        "colab": {
          "base_uri": "https://localhost:8080/"
        },
        "id": "3zh4yG0sa31h",
        "outputId": "be90483f-4a86-4cec-a509-c019523aaf6a"
      },
      "execution_count": null,
      "outputs": [
        {
          "output_type": "stream",
          "name": "stdout",
          "text": [
            "3137295108946.448\n",
            "1.7479263241757466e+29\n",
            "[[ 3.04132576e+19  2.78660444e+19  2.71730202e+19 ...  2.55775428e+19\n",
            "   3.14860774e+19  2.99739660e+19]\n",
            " [-4.46943145e+18 -4.58540652e+18 -4.09000363e+18 ...  4.34269240e+18\n",
            "  -4.73347422e+18 -1.75382785e+18]\n",
            " [ 2.88190934e+19  2.84891043e+19  2.96849347e+19 ...  3.61998214e+19\n",
            "   2.98435987e+19  2.81462304e+19]\n",
            " ...\n",
            " [ 3.80758987e+19  3.60922345e+19  3.76132617e+19 ...  4.12173153e+19\n",
            "   3.61335886e+19  3.29343156e+19]\n",
            " [-8.49838224e+19 -8.18502390e+19 -8.40254719e+19 ... -9.66254536e+19\n",
            "  -8.39617364e+19 -7.92215527e+19]\n",
            " [ 5.81289362e+19  5.65570632e+19  5.64491481e+19 ...  7.60829165e+19\n",
            "   6.23982409e+19  6.35826383e+19]]\n",
            "1.041902014498231e+51\n",
            "[[-7.36833599e+30 -6.92869809e+30 -6.74739479e+30 ... -8.69653769e+30\n",
            "  -7.92351851e+30 -8.22729137e+30]\n",
            " [-3.68489134e+30 -3.56748168e+30 -3.84523862e+30 ... -4.17446355e+30\n",
            "  -3.36871909e+30 -2.97615776e+30]\n",
            " [ 6.68146252e+30  6.36408918e+30  6.35828011e+30 ...  8.14574095e+30\n",
            "   7.00053820e+30  7.12697819e+30]\n",
            " ...\n",
            " [ 3.74440082e+30  3.60388163e+30  3.71167169e+30 ...  4.59815708e+30\n",
            "   3.74510874e+30  3.63620291e+30]\n",
            " [-6.53223794e+30 -6.28003019e+30 -6.43680279e+30 ... -7.81876556e+30\n",
            "  -6.46407303e+30 -6.34815424e+30]\n",
            " [-2.15777505e+30 -2.13407640e+30 -2.30976804e+30 ... -2.12887657e+30\n",
            "  -1.96127010e+30 -1.51028324e+30]]\n",
            "1.849981695604035e+73\n",
            "[[ 1.00274286e+42  9.58286956e+41  9.72003117e+41 ...  1.19343742e+42\n",
            "   1.01863882e+42  1.00935803e+42]\n",
            " [-6.40167343e+41 -6.18527612e+41 -6.29337291e+41 ... -7.91208059e+41\n",
            "  -6.55556686e+41 -6.46709117e+41]\n",
            " [-3.45751862e+41 -3.30185023e+41 -3.43716559e+41 ... -3.84079778e+41\n",
            "  -3.32493180e+41 -3.13555002e+41]\n",
            " ...\n",
            " [ 2.96574626e+41  2.82486387e+41  2.79809183e+41 ...  3.71797335e+41\n",
            "   3.15501874e+41  3.24160571e+41]\n",
            " [-5.05653346e+41 -4.83019480e+41 -4.78697342e+41 ... -6.48469757e+41\n",
            "  -5.39600316e+41 -5.55198955e+41]\n",
            " [-8.78344252e+41 -8.41420025e+41 -8.61068427e+41 ... -1.05994816e+42\n",
            "  -8.90412922e+41 -8.71121097e+41]]\n",
            "4.8480552529971674e+94\n",
            "[[ 2.75729102e+52  2.62134370e+52  2.53451739e+52 ...  3.56142902e+52\n",
            "   3.03871966e+52  3.17827835e+52]\n",
            " [-5.13808295e+52 -4.87528325e+52 -4.76534799e+52 ... -6.47610489e+52\n",
            "  -5.52521605e+52 -5.75457608e+52]\n",
            " [-2.56300360e+52 -2.47335570e+52 -2.53041948e+52 ... -3.15326326e+52\n",
            "  -2.60772065e+52 -2.54771293e+52]\n",
            " ...\n",
            " [-1.11792319e+52 -1.08811683e+52 -1.17445272e+52 ... -1.27405184e+52\n",
            "  -1.03160005e+52 -9.23477501e+51]\n",
            " [ 6.87765759e+51  7.13031806e+51  8.61946210e+51 ...  7.75404880e+51\n",
            "   5.01906425e+51  2.97472795e+51]\n",
            " [-5.39615724e+52 -5.14948795e+52 -5.12284780e+52 ... -6.72471245e+52\n",
            "  -5.67081480e+52 -5.77936425e+52]]\n",
            "4.6935774002237445e+116\n",
            "[[-2.70325568e+63 -2.61007525e+63 -2.71225389e+63 ... -3.15081578e+63\n",
            "  -2.64609840e+63 -2.51267347e+63]\n",
            " [ 3.74497852e+63  3.61948331e+63  3.76966963e+63 ...  4.37641883e+63\n",
            "   3.63252179e+63  3.45642316e+63]\n",
            " [-2.07576935e+63 -1.97499969e+63 -1.94418658e+63 ... -2.60148344e+63\n",
            "  -2.20747445e+63 -2.28137052e+63]\n",
            " ...\n",
            " [-2.71700237e+63 -2.60188540e+63 -2.62525978e+63 ... -3.29690665e+63\n",
            "  -2.78669616e+63 -2.78067436e+63]\n",
            " [ 5.52298326e+63  5.28340073e+63  5.32776104e+63 ...  6.68871417e+63\n",
            "   5.67266863e+63  5.66758852e+63]\n",
            " [ 1.07061691e+63  1.05149242e+63  1.18269017e+63 ...  1.11233543e+63\n",
            "   9.02911474e+62  7.18887359e+62]]\n",
            "7.401416905831694e+137\n",
            "[[-2.92227044e+74 -2.79881537e+74 -2.80534698e+74 ... -3.62194376e+74\n",
            "  -3.03526572e+74 -3.06489092e+74]\n",
            " [ 4.58283449e+74  4.38385231e+74  4.38605644e+74 ...  5.67315331e+74\n",
            "   4.78328262e+74  4.83075592e+74]\n",
            " [ 1.05763088e+74  1.02590283e+74  1.08699215e+74 ...  1.20896534e+74\n",
            "   9.93588148e+73  9.20127174e+73]\n",
            " ...\n",
            " [-4.80058238e+73 -4.51206648e+73 -4.09177673e+73 ... -6.73029297e+73\n",
            "  -5.73665774e+73 -6.41989444e+73]\n",
            " [ 7.78351013e+73  7.29265638e+73  6.47629155e+73 ...  1.11670679e+74\n",
            "   9.59025180e+73  1.08444560e+74]\n",
            " [ 3.92480287e+74  3.76840499e+74  3.82597525e+74 ...  4.76086271e+74\n",
            "   3.99218219e+74  3.95120427e+74]]\n",
            "1.0204843148819576e+160\n",
            "[[-1.93305889e+84 -1.68957725e+84 -1.03830272e+84 ... -3.39394829e+84\n",
            "  -3.14468546e+84 -4.10434381e+84]\n",
            " [-3.53656603e+83 -5.83883836e+83 -1.55238497e+84 ...  1.00038579e+84\n",
            "   1.27968454e+84  2.67380147e+84]\n",
            " [ 1.80990620e+85  1.73446133e+85  1.74398756e+85 ...  2.22487427e+85\n",
            "   1.87186235e+85  1.87752622e+85]\n",
            " ...\n",
            " [ 1.21287575e+85  1.17009941e+85  1.20712417e+85 ...  1.44501984e+85\n",
            "   1.20128370e+85  1.16101929e+85]\n",
            " [-2.35742882e+85 -2.27216054e+85 -2.33776648e+85 ... -2.81295408e+85\n",
            "  -2.34697681e+85 -2.27560352e+85]\n",
            " [ 1.57680081e+85  1.49703182e+85  1.44193954e+85 ...  2.04255889e+85\n",
            "   1.73797166e+85  1.83649140e+85]]\n",
            "5.695504022070556e+181\n",
            "[[ 1.96788089e+96  1.89286407e+96  1.93218729e+96 ...  2.37392230e+96\n",
            "   1.98413333e+96  1.94982763e+96]\n",
            " [-2.99162883e+96 -2.87400508e+96 -2.92511862e+96 ... -3.61223382e+96\n",
            "  -3.02951368e+96 -2.98901809e+96]\n",
            " [ 2.65569863e+95  2.45447609e+95  2.10667961e+95 ...  3.81753769e+95\n",
            "   3.36006817e+95  3.89791776e+95]\n",
            " ...\n",
            " [ 1.10312977e+96  1.05396604e+96  1.04667412e+96 ...  1.37660142e+96\n",
            "   1.16215876e+96  1.18587563e+96]\n",
            " [-1.94428729e+96 -1.85670919e+96 -1.84127499e+96 ... -2.43067394e+96\n",
            "  -2.05234653e+96 -2.09841565e+96]\n",
            " [-1.64118653e+96 -1.58711763e+96 -1.65448120e+96 ... -1.92344603e+96\n",
            "  -1.59393409e+96 -1.51455745e+96]]\n",
            "2.451940267581106e+203\n",
            "[[ 1.16796652e+107  1.11193498e+107  1.08911391e+107 ...  1.47888043e+107\n",
            "   1.25653041e+107  1.30278527e+107]\n",
            " [-1.44497357e+107 -1.37416553e+107 -1.33708089e+107 ... -1.84884700e+107\n",
            "  -1.57078317e+107 -1.64121040e+107]\n",
            " [-1.06306992e+107 -1.02317951e+107 -1.04782264e+107 ... -1.27453900e+107\n",
            "  -1.06508462e+107 -1.04141882e+107]\n",
            " ...\n",
            " [-2.29719087e+106 -2.26937456e+106 -2.55812699e+106 ... -2.38825658e+106\n",
            "  -1.89388450e+106 -1.50218565e+106]\n",
            " [ 4.95068086e+106  4.86493363e+106  5.38829167e+106 ...  5.29681549e+106\n",
            "   4.25167437e+106  3.55207233e+106]\n",
            " [-1.99751093e+107 -1.91171677e+107 -1.91127415e+107 ... -2.47287970e+107\n",
            "  -2.08277792e+107 -2.10657222e+107]]\n",
            "4.065646381653594e+225\n",
            "[[-7.11473735e+117 -6.90073109e+117 -7.27966543e+117 ... -8.19111185e+117\n",
            "  -6.75881894e+117 -6.28828265e+117]\n",
            " [ 1.12093126e+118  1.08572820e+118  1.13844969e+118 ...  1.30365427e+118\n",
            "   1.07760779e+118  1.01358841e+118]\n",
            " [-7.19922555e+117 -6.86570268e+117 -6.76468997e+117 ... -9.07492117e+117\n",
            "  -7.68204120e+117 -7.91174159e+117]\n",
            " ...\n",
            " [-8.67007430e+117 -8.32258096e+117 -8.42555854e+117 ... -1.05630186e+118\n",
            "  -8.86018436e+117 -8.80950975e+117]\n",
            " [ 1.56562397e+118  1.50256480e+118  1.51973614e+118 ...  1.91023179e+118\n",
            "   1.60261452e+118  1.59556835e+118]\n",
            " [ 2.46950841e+116  3.48809341e+116  7.99262344e+116 ... -4.01094026e+116\n",
            "  -5.23330642e+116 -1.17498595e+117]]\n"
          ]
        }
      ]
    },
    {
      "cell_type": "code",
      "source": [],
      "metadata": {
        "id": "WhNH43Nca3uA"
      },
      "execution_count": null,
      "outputs": []
    },
    {
      "cell_type": "code",
      "source": [
        "import sys\n",
        "sys.path.append('/content/gdrive/My Drive/Colab Notebooks/Opt/pyModules')"
      ],
      "metadata": {
        "id": "Ax8KKHV2KpHc"
      },
      "execution_count": null,
      "outputs": []
    },
    {
      "cell_type": "code",
      "source": [
        "from History import *"
      ],
      "metadata": {
        "id": "M4Nys1KWEgk9"
      },
      "execution_count": null,
      "outputs": []
    },
    {
      "cell_type": "code",
      "source": [
        "# Solves the following problem via ADMM:\n",
        "# minimize 1/2*|| Ax - b ||_2^2 + \\lambda || x ||_1\n",
        "def lasso(A, b, lamda, rho, alpha):\n",
        "    QUIET = False\n",
        "    MAX_ITER = 10\n",
        "    ABSTOL = 10**(-4)\n",
        "    RELTOL = 10**(-2)\n",
        "\n",
        "    m, n = A.shape\n",
        "    # save a matrix-vector multiply\n",
        "    Atb=np.dot(A.T,b)\n",
        "    #Atb = A.T*b\n",
        "\n",
        "    # ADMM solver\n",
        "    x = np.zeros([n, 1])\n",
        "    z = np.zeros([n, 1])\n",
        "    u = np.zeros([n, 1])\n",
        "\n",
        "    # cache the factorization\n",
        "    L, U = factor(A, rho)\n",
        "\n",
        "    if QUIET is False:\n",
        "        print('%3s' % 'iter', '%10s' % 'r norm', '%10s' % 'eps pri', '%10s' % 's norm', '%10s' % 'eps dual', '%10s' % 'objective')\n",
        "\n",
        "    history = History()\n",
        "    for k in range(0, MAX_ITER):\n",
        "        # x-update\n",
        "        q = Atb + rho*(z - u)  # temporary value\n",
        "        if m >= n:\n",
        "            x = la.solve(U.todense(), la.solve(L.todense(), q))\n",
        "        else:\n",
        "            x = q/rho - np.dot(A.T, la.solve(U.todense(), la.solve(L.todense(), np.dot(A, q))))/rho**2\n",
        "\n",
        "        # z-update\n",
        "        zold = z\n",
        "        x_hat = alpha*x + (1 - alpha)*zold\n",
        "        z = shrinkage(x_hat + u, lamda/rho)\n",
        "\n",
        "        # u-update\n",
        "        u = u + (x_hat - z)\n",
        "\n",
        "        # diagnostics, reporting, termination checks\n",
        "        history.addObjval(objective(A, b, lamda, x, z))\n",
        "        history.addR_norm(la.norm(x - z))\n",
        "        history.addS_norm(la.norm(-rho*(z - zold)))\n",
        "        history.addEps_pri(np.sqrt(n)*ABSTOL + RELTOL*np.maximum(la.norm(x), la.norm(-z)))\n",
        "        history.addEps_dual(np.sqrt(n)*ABSTOL + RELTOL*la.norm(rho*u))\n",
        "\n",
        "        if QUIET is False:\n",
        "            print('%3d' % k, '%10.4f' % history.getR_norm()[k], '%10.4f' % history.getEps_pri()[k], '%10.4f' % history.getS_norm()[k],\n",
        "                  '%10.4f' % history.getEps_dual()[k], '%10.2f' % history.getObjval()[k])\n",
        "\n",
        "        if history.getR_norm()[k] < history.getEps_pri()[k] and history.getS_norm()[k]<history.getEps_dual()[k]:\n",
        "            break\n",
        "    return z, history\n",
        "\n",
        "\n",
        "def objective(A, b, lamda, x, z):\n",
        "    a = np.dot(A, x) - b\n",
        "    p = 1/2*sum((np.multiply(a, a))) + lamda*la.norm(z, 1)\n",
        "    return p[0]\n",
        "\n",
        "def shrinkage(x, kappa):\n",
        "    z = np.maximum(0, (x - kappa)) - np.maximum(0, (-x - kappa))\n",
        "    #z = np.maximum(0, (x - kappa).getA()) - np.maximum(0, (-x - kappa).getA())\n",
        "    return z\n",
        "\n",
        "def factor(A, rho):\n",
        "    m, n = A.shape\n",
        "    if m >= n:\n",
        "        L = la.cholesky(np.dot(A.T, A) + rho*sparse.eye(n))\n",
        "    else:\n",
        "        L = la.cholesky(sparse.eye(m) + 1/rho*(np.dot(A, A.T)))\n",
        "\n",
        "    L = sparse.coo_matrix(L)\n",
        "    U = sparse.coo_matrix(L.T)\n",
        "\n",
        "    return L, U"
      ],
      "metadata": {
        "id": "Y1PMXkBGEgbE"
      },
      "execution_count": null,
      "outputs": []
    },
    {
      "cell_type": "code",
      "source": [
        "lambda_max = la.norm(np.dot(X.T, X), np.inf)\n",
        "lamda = 0.1*lambda_max"
      ],
      "metadata": {
        "id": "p-F0R2cM8M7T"
      },
      "execution_count": null,
      "outputs": []
    },
    {
      "cell_type": "code",
      "source": [
        "C, history =lasso(X,X,lamda, 1.0, 1.0)"
      ],
      "metadata": {
        "colab": {
          "base_uri": "https://localhost:8080/"
        },
        "id": "72-PRVHEMqoc",
        "outputId": "a761864a-419b-4c2c-883e-2dcd6fd40f78"
      },
      "execution_count": null,
      "outputs": [
        {
          "output_type": "stream",
          "name": "stdout",
          "text": [
            "iter     r norm    eps pri     s norm   eps dual  objective\n",
            "  0    45.5292     0.4640     0.0000     0.4640       0.01\n",
            "  1    44.2671     0.4514     0.0000     0.9060       0.04\n",
            "  2    43.3979     0.4427     0.0000     1.3388       0.07\n",
            "  3    42.7087     0.4358     0.0000     1.7644       0.10\n",
            "  4    42.1289     0.4300     0.0000     2.1839       0.13\n",
            "  5    41.6242     0.4250     0.0000     2.5982       0.17\n",
            "  6    41.1751     0.4205     0.0000     3.0077       0.21\n",
            "  7    40.7691     0.4164     0.0000     3.4131       0.25\n",
            "  8    40.3978     0.4127     0.0000     3.8145       0.29\n",
            "  9    40.0550     0.4093     0.0000     4.2124       0.33\n",
            " 10    39.7362     0.4061     0.0000     4.6069       0.38\n",
            " 11    39.4379     0.4031     0.0000     4.9984       0.42\n",
            " 12    39.1575     0.4003     0.0000     5.3869       0.47\n",
            " 13    38.8926     0.3977     0.0000     5.7727       0.51\n",
            " 14    38.6414     0.3952     0.0000     6.1558       0.56\n",
            " 15    38.4026     0.3928     0.0000     6.5365       0.61\n",
            " 16    38.1747     0.3905     0.0000     6.9147       0.66\n",
            " 17    37.9568     0.3883     0.0000     7.2908       0.71\n",
            " 18    37.7479     0.3862     0.0000     7.6646       0.76\n",
            " 19    37.5473     0.3842     0.0000     8.0364       0.81\n",
            " 20    37.3542     0.3823     0.0000     8.4061       0.87\n",
            " 21    37.1681     0.3804     0.0000     8.7740       0.92\n",
            " 22    36.9883     0.3786     0.0000     9.1399       0.98\n",
            " 23    36.8146     0.3769     0.0000     9.5041       1.03\n",
            " 24    36.6463     0.3752     0.0000     9.8665       1.09\n",
            " 25    36.4832     0.3736     0.0000    10.2272       1.15\n",
            " 26    36.3249     0.3720     0.0000    10.5863       1.20\n",
            " 27    36.1711     0.3705     0.0000    10.9438       1.26\n",
            " 28    36.0216     0.3690     0.0000    11.2997       1.32\n",
            " 29    35.8760     0.3675     0.0000    11.6541       1.38\n",
            " 30    35.7342     0.3661     0.0000    12.0071       1.44\n",
            " 31    35.5960     0.3647     0.0000    12.3586       1.50\n",
            " 32    35.4611     0.3634     0.0000    12.7088       1.56\n",
            " 33    35.3294     0.3621     0.0000    13.0576       1.63\n",
            " 34    35.2007     0.3608     0.0000    13.4050       1.69\n",
            " 35    35.0748     0.3595     0.0000    13.7512       1.75\n",
            " 36    34.9518     0.3583     0.0000    14.0960       1.81\n",
            " 37    34.8313     0.3571     0.0000    14.4397       1.88\n",
            " 38    34.7133     0.3559     0.0000    14.7821       1.94\n",
            " 39    34.5977     0.3547     0.0000    15.1233       2.01\n",
            " 40    34.4843     0.3536     0.0000    15.4634       2.07\n",
            " 41    34.3732     0.3525     0.0000    15.8023       2.14\n",
            " 42    34.2641     0.3514     0.0000    16.1401       2.21\n",
            " 43    34.1571     0.3503     0.0000    16.4767       2.27\n",
            " 44    34.0520     0.3493     0.0000    16.8123       2.34\n",
            " 45    33.9487     0.3482     0.0000    17.1469       2.41\n",
            " 46    33.8472     0.3472     0.0000    17.4803       2.48\n",
            " 47    33.7474     0.3462     0.0000    17.8128       2.54\n",
            " 48    33.6493     0.3452     0.0000    18.1443       2.61\n",
            " 49    33.5528     0.3443     0.0000    18.4747       2.68\n",
            " 50    33.4578     0.3433     0.0000    18.8042       2.75\n",
            " 51    33.3643     0.3424     0.0000    19.1327       2.82\n",
            " 52    33.2723     0.3415     0.0000    19.4603       2.89\n",
            " 53    33.1816     0.3406     0.0000    19.7869       2.96\n",
            " 54    33.0923     0.3397     0.0000    20.1126       3.03\n",
            " 55    33.0043     0.3388     0.0000    20.4374       3.10\n",
            " 56    32.9175     0.3379     0.0000    20.7614       3.17\n",
            " 57    32.8320     0.3371     0.0000    21.0844       3.25\n",
            " 58    32.7477     0.3362     0.0000    21.4066       3.32\n",
            " 59    32.6645     0.3354     0.0000    21.7279       3.39\n",
            " 60    32.5824     0.3346     0.0000    22.0484       3.46\n",
            " 61    32.5014     0.3338     0.0000    22.3680       3.53\n",
            " 62    32.4215     0.3330     0.0000    22.6868       3.61\n",
            " 63    32.3426     0.3322     0.0000    23.0049       3.68\n",
            " 64    32.2647     0.3314     0.0000    23.3221       3.75\n",
            " 65    32.1878     0.3306     0.0000    23.6385       3.83\n",
            " 66    32.1118     0.3299     0.0000    23.9541       3.90\n",
            " 67    32.0368     0.3291     0.0000    24.2690       3.97\n",
            " 68    31.9626     0.3284     0.0000    24.5831       4.05\n",
            " 69    31.8893     0.3276     0.0000    24.8965       4.12\n",
            " 70    31.8169     0.3269     0.0000    25.2091       4.20\n",
            " 71    31.7453     0.3262     0.0000    25.5210       4.27\n",
            " 72    31.6745     0.3255     0.0000    25.8321       4.35\n",
            " 73    31.6045     0.3248     0.0000    26.1426       4.42\n",
            " 74    31.5353     0.3241     0.0000    26.4523       4.50\n",
            " 75    31.4668     0.3234     0.0000    26.7613       4.57\n",
            " 76    31.3991     0.3227     0.0000    27.0696       4.65\n",
            " 77    31.3321     0.3221     0.0000    27.3773       4.73\n"
          ]
        }
      ]
    },
    {
      "cell_type": "code",
      "source": [
        "print(c)"
      ],
      "metadata": {
        "colab": {
          "base_uri": "https://localhost:8080/",
          "height": 169
        },
        "id": "cBrEYXmoxLLw",
        "outputId": "fc516665-e6b5-47cc-8a06-742f07d2c699"
      },
      "execution_count": null,
      "outputs": [
        {
          "output_type": "error",
          "ename": "NameError",
          "evalue": "ignored",
          "traceback": [
            "\u001b[0;31m---------------------------------------------------------------------------\u001b[0m",
            "\u001b[0;31mNameError\u001b[0m                                 Traceback (most recent call last)",
            "\u001b[0;32m<ipython-input-8-1dd5973cae19>\u001b[0m in \u001b[0;36m<module>\u001b[0;34m()\u001b[0m\n\u001b[0;32m----> 1\u001b[0;31m \u001b[0mprint\u001b[0m\u001b[0;34m(\u001b[0m\u001b[0mc\u001b[0m\u001b[0;34m)\u001b[0m\u001b[0;34m\u001b[0m\u001b[0;34m\u001b[0m\u001b[0m\n\u001b[0m",
            "\u001b[0;31mNameError\u001b[0m: name 'c' is not defined"
          ]
        }
      ]
    },
    {
      "cell_type": "code",
      "source": [
        "def sparse_coding( Y, D, X, rho, num_iterations, Z=None, U=None ):\n",
        "    if Z is None:\n",
        "        Z = X.copy()\n",
        "    if U is None:\n",
        "        U = X - Z\n",
        "\n",
        "    # precompute solve and part of RHS\n",
        "    iDtD = numpy.linalg.inv( numpy.dot(D.transpose(),D) + numpy.eye(D.shape[1]) )\n",
        "    DtY  = numpy.dot( D.transpose(), Y )\n",
        "\n",
        "    for iter in range(num_iterations):\n",
        "        print('    Sparse coding iteration [{}/{}]'.format(iter+1,num_iterations) )\n",
        "        # primary update\n",
        "        X = numpy.dot( iDtD, DtY + Z - U )\n",
        "\n",
        "        # splitting variable update\n",
        "        T = X + U\n",
        "        Z = numpy.maximum( numpy.abs(T) - rho, 0.0)*numpy.sign(T)\n",
        "\n",
        "        # lagrange multiplier update\n",
        "        U = T - Z\n",
        "    return X, Z, U"
      ],
      "metadata": {
        "id": "uw6DxsRv32qt"
      },
      "execution_count": null,
      "outputs": []
    },
    {
      "cell_type": "code",
      "source": [
        "sparse_coding(X,X,C)"
      ],
      "metadata": {
        "colab": {
          "base_uri": "https://localhost:8080/",
          "height": 169
        },
        "id": "2PZO7gEZ32h9",
        "outputId": "02940009-99e2-44d7-ff0c-f49cbcb496ff"
      },
      "execution_count": null,
      "outputs": [
        {
          "output_type": "error",
          "ename": "NameError",
          "evalue": "ignored",
          "traceback": [
            "\u001b[0;31m---------------------------------------------------------------------------\u001b[0m",
            "\u001b[0;31mNameError\u001b[0m                                 Traceback (most recent call last)",
            "\u001b[0;32m<ipython-input-13-80c8fa30c192>\u001b[0m in \u001b[0;36m<module>\u001b[0;34m()\u001b[0m\n\u001b[0;32m----> 1\u001b[0;31m \u001b[0msparse_coding\u001b[0m\u001b[0;34m(\u001b[0m\u001b[0mX\u001b[0m\u001b[0;34m,\u001b[0m\u001b[0mX\u001b[0m\u001b[0;34m,\u001b[0m\u001b[0mC\u001b[0m\u001b[0;34m)\u001b[0m\u001b[0;34m\u001b[0m\u001b[0;34m\u001b[0m\u001b[0m\n\u001b[0m",
            "\u001b[0;31mNameError\u001b[0m: name 'C' is not defined"
          ]
        }
      ]
    },
    {
      "cell_type": "code",
      "source": [
        "#hyper-parameters in the ADMM\n",
        "mu1=1e-6\n",
        "mu2 = 1e-5\n",
        "mu3 = 4e-5\n",
        "tau = 0.0001\n",
        "\n",
        "# Number of iterations\n",
        "iters = 5"
      ],
      "metadata": {
        "id": "O7k7tEO11HYm"
      },
      "execution_count": null,
      "outputs": []
    },
    {
      "cell_type": "code",
      "source": [],
      "metadata": {
        "id": "z_IdryiS1HRj"
      },
      "execution_count": null,
      "outputs": []
    },
    {
      "cell_type": "code",
      "source": [],
      "metadata": {
        "id": "Da_WV94Z1HJd"
      },
      "execution_count": null,
      "outputs": []
    },
    {
      "cell_type": "code",
      "source": [],
      "metadata": {
        "id": "_l9hHld_1G_Q"
      },
      "execution_count": null,
      "outputs": []
    },
    {
      "cell_type": "code",
      "source": [
        "# Model parameter\n",
        "X=tf.Variable(mirna)"
      ],
      "metadata": {
        "id": "u74dcvT2suRx"
      },
      "execution_count": null,
      "outputs": []
    },
    {
      "cell_type": "code",
      "source": [
        "#loss\n",
        "loss=tf.reduce_sum(tf.square(linear_model-X))"
      ],
      "metadata": {
        "colab": {
          "base_uri": "https://localhost:8080/"
        },
        "id": "Xknu-qCruJsg",
        "outputId": "85d1f8e5-525d-4486-ae19-aff2eabf27f6"
      },
      "execution_count": null,
      "outputs": [
        {
          "output_type": "execute_result",
          "data": {
            "text/plain": [
              "<tf.Variable 'Variable:0' shape=(2454, 7668) dtype=float64, numpy=\n",
              "array([[0.45480001, 0.37029999, 0.48710001, ..., 0.        , 0.        ,\n",
              "        0.        ],\n",
              "       [0.        , 0.        , 0.        , ..., 0.        , 0.        ,\n",
              "        0.16949999],\n",
              "       [0.        , 0.        , 0.        , ..., 0.        , 0.30610001,\n",
              "        0.16949999],\n",
              "       ...,\n",
              "       [0.        , 0.        , 0.        , ..., 0.        , 0.        ,\n",
              "        0.        ],\n",
              "       [0.        , 0.        , 0.        , ..., 0.        , 0.        ,\n",
              "        0.        ],\n",
              "       [0.        , 0.        , 0.        , ..., 0.        , 0.        ,\n",
              "        0.        ]])>"
            ]
          },
          "metadata": {},
          "execution_count": 7
        }
      ]
    },
    {
      "cell_type": "code",
      "source": [
        "# opt\n",
        "optimizer=tf."
      ],
      "metadata": {
        "id": "YexvSbvyv2lI"
      },
      "execution_count": null,
      "outputs": []
    },
    {
      "cell_type": "code",
      "source": [
        "## dual decomposition ~ parallel coding CHK"
      ],
      "metadata": {
        "id": "EOVNVT420q5o"
      },
      "execution_count": null,
      "outputs": []
    },
    {
      "cell_type": "code",
      "source": [
        "C=linalg.solve(X,X)"
      ],
      "metadata": {
        "colab": {
          "base_uri": "https://localhost:8080/",
          "height": 312
        },
        "id": "ZSoQcS7V81A7",
        "outputId": "bfc47fe1-3f71-4f8b-8228-852b1405dcf1"
      },
      "execution_count": null,
      "outputs": [
        {
          "output_type": "error",
          "ename": "ValueError",
          "evalue": "ignored",
          "traceback": [
            "\u001b[0;31m---------------------------------------------------------------------------\u001b[0m",
            "\u001b[0;31mValueError\u001b[0m                                Traceback (most recent call last)",
            "\u001b[0;32m<ipython-input-4-f93bd32b30b8>\u001b[0m in \u001b[0;36m<module>\u001b[0;34m()\u001b[0m\n\u001b[0;32m----> 1\u001b[0;31m \u001b[0mC\u001b[0m\u001b[0;34m=\u001b[0m\u001b[0mlinalg\u001b[0m\u001b[0;34m.\u001b[0m\u001b[0msolve\u001b[0m\u001b[0;34m(\u001b[0m\u001b[0mX\u001b[0m\u001b[0;34m,\u001b[0m\u001b[0mX\u001b[0m\u001b[0;34m)\u001b[0m\u001b[0;34m\u001b[0m\u001b[0;34m\u001b[0m\u001b[0m\n\u001b[0m",
            "\u001b[0;32m/usr/local/lib/python3.7/dist-packages/scipy/linalg/basic.py\u001b[0m in \u001b[0;36msolve\u001b[0;34m(a, b, sym_pos, lower, overwrite_a, overwrite_b, debug, check_finite, assume_a, transposed)\u001b[0m\n\u001b[1;32m    145\u001b[0m \u001b[0;34m\u001b[0m\u001b[0m\n\u001b[1;32m    146\u001b[0m     \u001b[0;32mif\u001b[0m \u001b[0ma1\u001b[0m\u001b[0;34m.\u001b[0m\u001b[0mshape\u001b[0m\u001b[0;34m[\u001b[0m\u001b[0;36m0\u001b[0m\u001b[0;34m]\u001b[0m \u001b[0;34m!=\u001b[0m \u001b[0ma1\u001b[0m\u001b[0;34m.\u001b[0m\u001b[0mshape\u001b[0m\u001b[0;34m[\u001b[0m\u001b[0;36m1\u001b[0m\u001b[0;34m]\u001b[0m\u001b[0;34m:\u001b[0m\u001b[0;34m\u001b[0m\u001b[0;34m\u001b[0m\u001b[0m\n\u001b[0;32m--> 147\u001b[0;31m         \u001b[0;32mraise\u001b[0m \u001b[0mValueError\u001b[0m\u001b[0;34m(\u001b[0m\u001b[0;34m'Input a needs to be a square matrix.'\u001b[0m\u001b[0;34m)\u001b[0m\u001b[0;34m\u001b[0m\u001b[0;34m\u001b[0m\u001b[0m\n\u001b[0m\u001b[1;32m    148\u001b[0m \u001b[0;34m\u001b[0m\u001b[0m\n\u001b[1;32m    149\u001b[0m     \u001b[0;32mif\u001b[0m \u001b[0mn\u001b[0m \u001b[0;34m!=\u001b[0m \u001b[0mb1\u001b[0m\u001b[0;34m.\u001b[0m\u001b[0mshape\u001b[0m\u001b[0;34m[\u001b[0m\u001b[0;36m0\u001b[0m\u001b[0;34m]\u001b[0m\u001b[0;34m:\u001b[0m\u001b[0;34m\u001b[0m\u001b[0;34m\u001b[0m\u001b[0m\n",
            "\u001b[0;31mValueError\u001b[0m: Input a needs to be a square matrix."
          ]
        }
      ]
    },
    {
      "cell_type": "code",
      "source": [
        "C,residue,r,s=linalg.lstsq(X,X)"
      ],
      "metadata": {
        "id": "alzmHU4Mn2Gm"
      },
      "execution_count": null,
      "outputs": []
    }
  ]
}