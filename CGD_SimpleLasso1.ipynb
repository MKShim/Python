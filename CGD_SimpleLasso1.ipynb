{
  "nbformat": 4,
  "nbformat_minor": 0,
  "metadata": {
    "colab": {
      "provenance": [],
      "collapsed_sections": [],
      "authorship_tag": "ABX9TyMCwLYBzSBI8X6/8vTc3kS5",
      "include_colab_link": true
    },
    "kernelspec": {
      "name": "python3",
      "display_name": "Python 3"
    },
    "language_info": {
      "name": "python"
    }
  },
  "cells": [
    {
      "cell_type": "markdown",
      "metadata": {
        "id": "view-in-github",
        "colab_type": "text"
      },
      "source": [
        "<a href=\"https://colab.research.google.com/github/MKShim/Python/blob/main/CGD_SimpleLasso1.ipynb\" target=\"_parent\"><img src=\"https://colab.research.google.com/assets/colab-badge.svg\" alt=\"Open In Colab\"/></a>"
      ]
    },
    {
      "cell_type": "code",
      "execution_count": null,
      "metadata": {
        "id": "rolRS-LvzfAb"
      },
      "outputs": [],
      "source": [
        "import numpy as np"
      ]
    },
    {
      "cell_type": "code",
      "source": [
        "def coordinate_descent(z, x, nu, rho, lamb):\n",
        "    e_grad = x + nu*1.0/rho\n",
        "    rho = 1\n",
        "    # Regularization term gradient\n",
        "    # This will have a subgradient, with values as -lambda/rho, lambda/rho OR 0\n",
        "\n",
        "    # print(\"prev\",z)\n",
        "    z_t = np.zeros_like(z)\n",
        "\n",
        "    filter_less = -(1.0*lamb/rho)*(z<0)\n",
        "    # print(\"less\",filter_less)\n",
        "    filter_greater = (1.0*lamb/rho)*(z>0)\n",
        "    # print(\"gt\",filter_greater)\n",
        "\n",
        "    z_t = e_grad - filter_less - filter_greater\n",
        "    # print(z_t)\n",
        "    return(z_t)"
      ],
      "metadata": {
        "id": "FK4tzPi1zjwr"
      },
      "execution_count": null,
      "outputs": []
    },
    {
      "cell_type": "code",
      "source": [
        "d = 20\n",
        "n = 100\n",
        "\n",
        "A = np.random.randn(n, d)\n",
        "b = np.random.randn(n, n)\n",
        "\n",
        "X_t = np.random.randn(d, n)\n",
        "# z_t = np.random.randn(d, 1)\n",
        "# X_t = np.zeros((d,1))\n",
        "z_t = np.zeros((d,n))\n",
        "rho = 1\n",
        "\n",
        "# nu_t = np.random.randn(d, 1)\n",
        "nu_t = np.zeros((d,n))\n",
        "num_iterations = 10\n",
        "\n",
        "print(A.shape,b.shape,X_t.shape,z_t.shape,rho,nu_t.shape)"
      ],
      "metadata": {
        "colab": {
          "base_uri": "https://localhost:8080/"
        },
        "id": "LshIY5_kzjoD",
        "outputId": "79b8fde7-101b-44ff-9048-a1889c4908a6"
      },
      "execution_count": null,
      "outputs": [
        {
          "output_type": "stream",
          "name": "stdout",
          "text": [
            "(100, 20) (100, 100) (20, 100) (20, 100) 1 (20, 100)\n"
          ]
        }
      ]
    },
    {
      "cell_type": "code",
      "source": [
        "# Initializations\n",
        "lamb = 0.1\n",
        "val = 0.5*np.linalg.norm(A.dot(X_t) - b, ord='fro')**2 + lamb*np.linalg.norm(X_t, ord=1)\n",
        "print(val)\n",
        "for iter in range(num_iterations):\n",
        "\n",
        "    # STEP 1: Calculate X_t\n",
        "    # This has a closed form solution\n",
        "    term1 = np.linalg.inv(A.T.dot(A) + rho)\n",
        "    term2 = A.T.dot(b) + rho*z_t -  nu_t\n",
        "    X_t = term1.dot(term2)\n",
        "    # print(term1.shape, term2.shape, X_t.shape)\n",
        "\n",
        "    # STEP 2: Calculate z_t\n",
        "    # Taking the prox, we get the lasso problem again, so, using coordinate_descent\n",
        "    lamb = 0.1\n",
        "    z_t = coordinate_descent(z_t, X_t, nu_t, rho, lamb)\n",
        "\n",
        "    # STEP 3: Update nu_t\n",
        "    nu_t = nu_t + rho*(X_t - z_t)\n",
        "    val = 0.5*np.linalg.norm(A.dot(X_t) - b, ord='fro')**2 + lamb*np.linalg.norm(X_t, ord=1)\n",
        "    print(val)\n",
        "\n",
        "val = 0.5*np.linalg.norm(A.dot(X_t) - b, ord='fro')**2 + lamb*np.linalg.norm(X_t, ord=1)\n",
        "print(val)"
      ],
      "metadata": {
        "colab": {
          "base_uri": "https://localhost:8080/"
        },
        "id": "AeIocfxFzjZk",
        "outputId": "4a543e7a-ed2c-4763-c679-352b75869658"
      },
      "execution_count": null,
      "outputs": [
        {
          "output_type": "stream",
          "name": "stdout",
          "text": [
            "117483.76357906692\n",
            "3905.0393482557038\n",
            "3904.966792213884\n",
            "3905.3570766088556\n",
            "3905.687025228011\n",
            "3905.5869264922308\n",
            "3905.6798550580475\n",
            "3905.587018517401\n",
            "3905.6798517334937\n",
            "3905.587018569049\n",
            "3905.6798517309758\n",
            "3905.5870185690883\n",
            "3905.679851730975\n",
            "3905.5870185690883\n",
            "3905.679851730975\n",
            "3905.5870185690883\n",
            "3905.679851730975\n",
            "3905.5870185690883\n",
            "3905.679851730975\n",
            "3905.5870185690883\n",
            "3905.679851730975\n",
            "3905.679851730975\n"
          ]
        }
      ]
    },
    {
      "cell_type": "code",
      "source": [],
      "metadata": {
        "id": "a2FAqxJT36jF"
      },
      "execution_count": null,
      "outputs": []
    }
  ]
}