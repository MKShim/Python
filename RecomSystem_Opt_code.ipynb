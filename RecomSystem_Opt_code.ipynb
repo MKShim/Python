{
  "nbformat": 4,
  "nbformat_minor": 0,
  "metadata": {
    "colab": {
      "provenance": [],
      "collapsed_sections": [],
      "mount_file_id": "1XsKmVmhpq0nT3aiOysdTmI7BEQCM1H8l",
      "authorship_tag": "ABX9TyPFNWXuhwubr00YBBlefmQD",
      "include_colab_link": true
    },
    "kernelspec": {
      "name": "python3",
      "display_name": "Python 3"
    },
    "language_info": {
      "name": "python"
    }
  },
  "cells": [
    {
      "cell_type": "markdown",
      "metadata": {
        "id": "view-in-github",
        "colab_type": "text"
      },
      "source": [
        "<a href=\"https://colab.research.google.com/github/MKShim/Python/blob/main/RecomSystem_Opt_code.ipynb\" target=\"_parent\"><img src=\"https://colab.research.google.com/assets/colab-badge.svg\" alt=\"Open In Colab\"/></a>"
      ]
    },
    {
      "cell_type": "markdown",
      "source": [
        "## 연결"
      ],
      "metadata": {
        "id": "WEYB_iOhLFqX"
      }
    },
    {
      "cell_type": "code",
      "source": [
        "pip install duckdb"
      ],
      "metadata": {
        "colab": {
          "base_uri": "https://localhost:8080/"
        },
        "id": "ZGbfPxlDd_wV",
        "outputId": "968e1ed9-57cf-487a-e842-804f296784fd"
      },
      "execution_count": null,
      "outputs": [
        {
          "output_type": "stream",
          "name": "stdout",
          "text": [
            "Looking in indexes: https://pypi.org/simple, https://us-python.pkg.dev/colab-wheels/public/simple/\n",
            "Collecting duckdb\n",
            "  Downloading duckdb-0.4.0-cp37-cp37m-manylinux_2_17_x86_64.manylinux2014_x86_64.whl (15.7 MB)\n",
            "\u001b[K     |████████████████████████████████| 15.7 MB 521 kB/s \n",
            "\u001b[?25hRequirement already satisfied: numpy>=1.14 in /usr/local/lib/python3.7/dist-packages (from duckdb) (1.21.6)\n",
            "Installing collected packages: duckdb\n",
            "Successfully installed duckdb-0.4.0\n"
          ]
        }
      ]
    },
    {
      "cell_type": "code",
      "execution_count": null,
      "metadata": {
        "colab": {
          "base_uri": "https://localhost:8080/"
        },
        "id": "LqhdgXOx4BBc",
        "outputId": "6fb89525-58d2-4f23-94a5-74e88e1fd1b7"
      },
      "outputs": [
        {
          "output_type": "stream",
          "name": "stdout",
          "text": [
            "Mounted at /content/drive\n"
          ]
        }
      ],
      "source": [
        "from google.colab import drive\n",
        "drive.mount('/content/drive')"
      ]
    },
    {
      "cell_type": "code",
      "source": [
        "import numpy as np\n",
        "import numpy.matlib\n",
        "import pandas as pd\n",
        "import duckdb\n",
        "\n",
        "#from functools import wraps\n",
        "#from typing import List, Optional, Tuple, cast\n",
        "#import time\n",
        "#import functools\n",
        "#import pdb, sys"
      ],
      "metadata": {
        "id": "PxjtHi_s4hT0"
      },
      "execution_count": null,
      "outputs": []
    },
    {
      "cell_type": "markdown",
      "source": [
        "## Data import, preprocessing"
      ],
      "metadata": {
        "id": "1bPwZBXGLXb4"
      }
    },
    {
      "cell_type": "code",
      "source": [
        "sparse = pd.read_csv('/content/drive/Shareddrives/22SummerProjects/LPoint/Clustering/test01.csv')"
      ],
      "metadata": {
        "id": "a9kPyFdO4hOI"
      },
      "execution_count": null,
      "outputs": []
    },
    {
      "cell_type": "code",
      "source": [
        "online_sparse = pd.read_csv('/content/drive/Shareddrives/22SummerProjects/LPoint/Clustering/online_sparse.csv')"
      ],
      "metadata": {
        "id": "lBcnlrlibaGs"
      },
      "execution_count": null,
      "outputs": []
    },
    {
      "cell_type": "code",
      "source": [
        "cust_list=online_sparse[['Cust']]"
      ],
      "metadata": {
        "id": "tZ3l9oAJ4hH3"
      },
      "execution_count": null,
      "outputs": []
    },
    {
      "cell_type": "code",
      "source": [
        "\n",
        "\\"
      ],
      "metadata": {
        "id": "arjkecl-d0uV"
      },
      "execution_count": null,
      "outputs": []
    },
    {
      "cell_type": "code",
      "source": [
        "online.drop(['금융/보험서비스','기타상품'], axis=1, inplace=True)"
      ],
      "metadata": {
        "id": "JUh2Ot7agpRI"
      },
      "execution_count": null,
      "outputs": []
    },
    {
      "cell_type": "code",
      "source": [
        "#R = np.array(online_zero)\n",
        "#R = R[:,2:]"
      ],
      "metadata": {
        "id": "MV8-ms3y7mSG"
      },
      "execution_count": null,
      "outputs": []
    },
    {
      "cell_type": "code",
      "source": [
        "# Not higm dim\n",
        "#R.shape"
      ],
      "metadata": {
        "id": "6M7-8SWW7syi"
      },
      "execution_count": null,
      "outputs": []
    },
    {
      "cell_type": "code",
      "source": [
        "online_zero = online.fillna(0)"
      ],
      "metadata": {
        "id": "qah4KCM3K_6o"
      },
      "execution_count": null,
      "outputs": []
    },
    {
      "cell_type": "code",
      "source": [
        "online_zero=online_zero.iloc[:,1:]"
      ],
      "metadata": {
        "id": "L-nM5-iIBZQL"
      },
      "execution_count": null,
      "outputs": []
    },
    {
      "cell_type": "code",
      "source": [
        "online_zero['sum']=online_zero.sum(axis=1)"
      ],
      "metadata": {
        "colab": {
          "base_uri": "https://localhost:8080/"
        },
        "id": "5MU0_iQnA0d4",
        "outputId": "7e0e0cff-054f-4553-806b-dc4e3136ac16"
      },
      "execution_count": null,
      "outputs": [
        {
          "output_type": "stream",
          "name": "stderr",
          "text": [
            "/usr/local/lib/python3.7/dist-packages/ipykernel_launcher.py:1: FutureWarning: Dropping of nuisance columns in DataFrame reductions (with 'numeric_only=None') is deprecated; in a future version this will raise TypeError.  Select only valid columns before calling the reduction.\n",
            "  \"\"\"Entry point for launching an IPython kernel.\n"
          ]
        }
      ]
    },
    {
      "cell_type": "code",
      "source": [
        "online_sum=online_zero.sort_values(by=['sum'], ascending=False)"
      ],
      "metadata": {
        "id": "_esmM4jjAeZq"
      },
      "execution_count": null,
      "outputs": []
    },
    {
      "cell_type": "code",
      "source": [
        "def q4cut(s):\n",
        "    return pd.qcut(s, 4, labels = [\"G1\",\"G2\",\"G3\",\"VIP\"]).astype(str)"
      ],
      "metadata": {
        "id": "j9WOdkAERddT"
      },
      "execution_count": null,
      "outputs": []
    },
    {
      "cell_type": "code",
      "source": [
        "online_sum['grade']=online_sum['sum'].transform(q4cut)"
      ],
      "metadata": {
        "id": "qrKTpLtbSXD8"
      },
      "execution_count": null,
      "outputs": []
    },
    {
      "cell_type": "code",
      "source": [
        "#online_sum['sum'].quantile(q=0.75, interpolation='nearest')"
      ],
      "metadata": {
        "id": "oABcf1o4KdAv"
      },
      "execution_count": null,
      "outputs": []
    },
    {
      "cell_type": "code",
      "source": [
        "online_sum.shape"
      ],
      "metadata": {
        "colab": {
          "base_uri": "https://localhost:8080/"
        },
        "id": "GhLXuLYsHjHp",
        "outputId": "1baf9f90-0c84-4c1d-a8d3-a3c914be9dc8"
      },
      "execution_count": null,
      "outputs": [
        {
          "output_type": "execute_result",
          "data": {
            "text/plain": [
              "(26917, 61)"
            ]
          },
          "metadata": {},
          "execution_count": 39
        }
      ]
    },
    {
      "cell_type": "code",
      "source": [
        "# 최종 데이터 저장\n",
        "online_sum.to_csv('/content/drive/Shareddrives/22SummerProjects/LPoint/Clustering/online_sum.csv', sep=',')"
      ],
      "metadata": {
        "id": "qDA_f4hyKc3q"
      },
      "execution_count": null,
      "outputs": []
    },
    {
      "cell_type": "code",
      "source": [
        "grade_VIP=duckdb.query(\"select * from online_sum where grade='VIP'\").to_df()"
      ],
      "metadata": {
        "id": "mKL74XioV8ue"
      },
      "execution_count": null,
      "outputs": []
    },
    {
      "cell_type": "code",
      "source": [
        "grade_G3=duckdb.query(\"select * from online_sum where grade='G3'\").to_df()"
      ],
      "metadata": {
        "id": "fOnZGNBPWlXl"
      },
      "execution_count": null,
      "outputs": []
    },
    {
      "cell_type": "code",
      "source": [
        "grade_G2=duckdb.query(\"select * from online_sum where grade='G2'\").to_df()"
      ],
      "metadata": {
        "id": "U9kXiRbpWpA9"
      },
      "execution_count": null,
      "outputs": []
    },
    {
      "cell_type": "code",
      "source": [
        "grade_G1=duckdb.query(\"select * from online_sum where grade='G1'\").to_df()"
      ],
      "metadata": {
        "id": "LozaV6S6WqWF"
      },
      "execution_count": null,
      "outputs": []
    },
    {
      "cell_type": "code",
      "source": [
        "grade_VIP=grade_VIP.drop(['Cust_2','grade','sum'], axis=1)"
      ],
      "metadata": {
        "id": "52eOqPN3XTrB"
      },
      "execution_count": null,
      "outputs": []
    },
    {
      "cell_type": "code",
      "source": [
        "grade_G3=grade_G3.drop(['Cust_2','grade','sum'], axis=1)\n",
        "grade_G2=grade_G2.drop(['Cust_2','grade','sum'], axis=1)\n",
        "grade_G1=grade_G1.drop(['Cust_2','grade','sum'], axis=1)"
      ],
      "metadata": {
        "id": "9jCUiTe0czkI"
      },
      "execution_count": null,
      "outputs": []
    },
    {
      "cell_type": "code",
      "source": [
        "# 단가 차이 있으니까 (가우시안) 표준화 or 정규화\n",
        "from sklearn.preprocessing import StandardScaler\n",
        "from sklearn.preprocessing import MinMaxScaler"
      ],
      "metadata": {
        "id": "r3YnzlqOA1PF"
      },
      "execution_count": null,
      "outputs": []
    },
    {
      "cell_type": "code",
      "source": [
        "scaler01 = MinMaxScaler()\n",
        "scaler01.fit(grade_VIP)\n",
        "scaler01_scaled = scaler01.transform(grade_VIP)"
      ],
      "metadata": {
        "id": "cjDqAZiRA39y"
      },
      "execution_count": null,
      "outputs": []
    },
    {
      "cell_type": "code",
      "source": [
        "scaler02 = MinMaxScaler()\n",
        "scaler02.fit(grade_G3)\n",
        "scaler02_scaled = scaler02.transform(grade_G3)"
      ],
      "metadata": {
        "id": "xeSgEalFiWoB"
      },
      "execution_count": null,
      "outputs": []
    },
    {
      "cell_type": "code",
      "source": [
        "scaler03 = MinMaxScaler()\n",
        "scaler03.fit(grade_G2)\n",
        "scaler03_scaled = scaler03.transform(grade_G2)"
      ],
      "metadata": {
        "id": "CbuTD1a5iarI"
      },
      "execution_count": null,
      "outputs": []
    },
    {
      "cell_type": "code",
      "source": [
        "scaler04 = MinMaxScaler()\n",
        "scaler04.fit(grade_G1)\n",
        "scaler04_scaled = scaler04.transform(grade_G1)"
      ],
      "metadata": {
        "id": "hioRuooHXA3T"
      },
      "execution_count": null,
      "outputs": []
    },
    {
      "cell_type": "code",
      "source": [
        "R_VIP=scaler01_scaled\n",
        "R_G3=scaler02_scaled\n",
        "R_G2=scaler03_scaled\n",
        "R_G1=scaler04_scaled"
      ],
      "metadata": {
        "id": "62aZKVKqB6WJ"
      },
      "execution_count": null,
      "outputs": []
    },
    {
      "cell_type": "markdown",
      "source": [
        "## Recommand System using Matrix Factorization"
      ],
      "metadata": {
        "id": "Mox7VwniLoBR"
      }
    },
    {
      "cell_type": "code",
      "source": [
        "class MatrixFactorization():\n",
        "    def __init__(self, R, k, learning_rate, reg_param, epochs, verbose=False):\n",
        "        \"\"\"\n",
        "        :param R: rating matrix\n",
        "        :param k: latent parameter\n",
        "\n",
        "        :param learning_rate: alpha on weight update\n",
        "        :param reg_param: beta on weight update\n",
        "\n",
        "        :param epochs: training epochs\n",
        "        :param verbose: print status\n",
        "        \"\"\"\n",
        "        self._R = R\n",
        "        self._num_users, self._num_items = R.shape\n",
        "        self._k = k\n",
        "        self._learning_rate = learning_rate\n",
        "        self._reg_param = reg_param\n",
        "        self._epochs = epochs\n",
        "        self._verbose = verbose\n",
        "\n",
        "    def fit(self):\n",
        "        \"\"\"\n",
        "        training Matrix Factorization : Update matrix latent weight and bias\n",
        "\n",
        "        참고: self._b에 대한 설명\n",
        "        - global bias: input R에서 평가가 매겨진 rating의 평균값을 global bias로 사용\n",
        "        - 정규화 기능. 최종 rating에 음수가 들어가는 것 대신 latent feature에 음수가 포함되도록 해줌.\n",
        "\n",
        "        :return: training_process\n",
        "        \"\"\"\n",
        "\n",
        "        # init latent features\n",
        "        self._P = np.random.normal(size=(self._num_users, self._k))\n",
        "        self._Q = np.random.normal(size=(self._num_items, self._k))\n",
        "\n",
        "        # init biases\n",
        "        self._b_P = np.zeros(self._num_users)\n",
        "        self._b_Q = np.zeros(self._num_items)\n",
        "        self._b = np.mean(self._R[np.where(self._R != 0)])\n",
        "\n",
        "        # train while epochs\n",
        "        self._training_process = []\n",
        "        for epoch in range(self._epochs):\n",
        "\n",
        "            # rating이 존재하는 index를 기준으로 training\n",
        "            for i in range(self._num_users):\n",
        "                for j in range(self._num_items):\n",
        "                    if self._R[i, j] > 0:\n",
        "                        self.gradient_descent(i, j, self._R[i, j])\n",
        "            cost = self.cost()\n",
        "            self._training_process.append((epoch, cost))\n",
        "\n",
        "            # print status\n",
        "            if self._verbose == True and ((epoch + 1) % 10 == 0):\n",
        "                print(\"Iteration: %d ; cost = %.4f\" % (epoch + 1, cost))\n",
        "\n",
        "\n",
        "    def cost(self):\n",
        "        \"\"\"\n",
        "        compute root mean square error\n",
        "        :return: rmse cost\n",
        "        \"\"\"\n",
        "\n",
        "        # xi, yi: R[xi, yi]는 nonzero인 value를 의미한다.\n",
        "        # 참고: http://codepractice.tistory.com/90\n",
        "        xi, yi = self._R.nonzero()\n",
        "        predicted = self.get_complete_matrix()\n",
        "        cost = 0\n",
        "        for x, y in zip(xi, yi):\n",
        "            cost += pow(self._R[x, y] - predicted[x, y], 2)\n",
        "        return np.sqrt(cost) / len(xi)\n",
        "\n",
        "\n",
        "    def gradient(self, error, i, j):\n",
        "        \"\"\"\n",
        "        gradient of latent feature for GD\n",
        "\n",
        "        :param error: rating - prediction error\n",
        "        :param i: user index\n",
        "        :param j: item index\n",
        "        :return: gradient of latent feature tuple\n",
        "        \"\"\"\n",
        "\n",
        "        dp = (error * self._Q[j, :]) - (self._reg_param * self._P[i, :])\n",
        "        dq = (error * self._P[i, :]) - (self._reg_param * self._Q[j, :])\n",
        "        return dp, dq\n",
        "\n",
        "\n",
        "    def gradient_descent(self, i, j, rating):\n",
        "        \"\"\"\n",
        "        graident descent function\n",
        "\n",
        "        :param i: user index of matrix\n",
        "        :param j: item index of matrix\n",
        "        :param rating: rating of (i,j)\n",
        "        \"\"\"\n",
        "\n",
        "        # get error\n",
        "        prediction = self.get_prediction(i, j)\n",
        "        error = rating - prediction\n",
        "\n",
        "        # update biases\n",
        "        self._b_P[i] += self._learning_rate * (error - self._reg_param * self._b_P[i])\n",
        "        self._b_Q[j] += self._learning_rate * (error - self._reg_param * self._b_Q[j])\n",
        "\n",
        "        # update latent feature\n",
        "        dp, dq = self.gradient(error, i, j)\n",
        "        self._P[i, :] += self._learning_rate * dp\n",
        "        self._Q[j, :] += self._learning_rate * dq\n",
        "\n",
        "\n",
        "    def get_prediction(self, i, j):\n",
        "        \"\"\"\n",
        "        get predicted rating: user_i, item_j\n",
        "        :return: prediction of r_ij\n",
        "        \"\"\"\n",
        "        return self._b + self._b_P[i] + self._b_Q[j] + self._P[i, :].dot(self._Q[j, :].T)\n",
        "\n",
        "\n",
        "    def get_complete_matrix(self):\n",
        "        \"\"\"\n",
        "        computer complete matrix PXQ + P.bias + Q.bias + global bias\n",
        "\n",
        "        - PXQ 행렬에 b_P[:, np.newaxis]를 더하는 것은 각 열마다 bias를 더해주는 것\n",
        "        - b_Q[np.newaxis:, ]를 더하는 것은 각 행마다 bias를 더해주는 것\n",
        "        - b를 더하는 것은 각 element마다 bias를 더해주는 것\n",
        "\n",
        "        - newaxis: 차원을 추가해줌. 1차원인 Latent들로 2차원의 R에 행/열 단위 연산을 해주기위해 차원을 추가하는 것.\n",
        "\n",
        "        :return: complete matrix R^\n",
        "        \"\"\"\n",
        "        return self._b + self._b_P[:, np.newaxis] + self._b_Q[np.newaxis:, ] + self._P.dot(self._Q.T)\n",
        "\n",
        "\n",
        "    def print_results(self):\n",
        "        \"\"\"\n",
        "        print fit results\n",
        "        \"\"\"\n",
        "\n",
        "        print(\"User Latent P:\")\n",
        "        print(self._P)\n",
        "        print(\"Item Latent Q:\")\n",
        "        print(self._Q.T)\n",
        "        print(\"P x Q:\")\n",
        "        print(self._P.dot(self._Q.T))\n",
        "        print(\"bias:\")\n",
        "        print(self._b)\n",
        "        print(\"User Latent bias:\")\n",
        "        print(self._b_P)\n",
        "        print(\"Item Latent bias:\")\n",
        "        print(self._b_Q)\n",
        "        print(\"Final R matrix:\")\n",
        "        print(self.get_complete_matrix())\n",
        "        print(\"Final RMSE:\")\n",
        "        print(self._training_process[self._epochs-1][1])\n",
        "\n",
        "    def out(self):\n",
        "      return self._P, self._Q.T, self.get_complete_matrix()    \n"
      ],
      "metadata": {
        "id": "Rfcm3r9tLhXx"
      },
      "execution_count": null,
      "outputs": []
    },
    {
      "cell_type": "markdown",
      "source": [
        "## Fitting the model"
      ],
      "metadata": {
        "id": "a1owqghwL3aK"
      }
    },
    {
      "cell_type": "code",
      "source": [
        "# run total data\n",
        "if __name__ == \"__main__\":\n",
        "    # rating matrix - User X Item : (7 X 5)\n",
        "\n",
        "    # P, Q is (7 X k), (k X 5) matrix\n",
        "    factorizer_vip = MatrixFactorization(R_VIP, k=4, learning_rate=0.1, reg_param=0.1, epochs=10, verbose=True)\n",
        "    factorizer_vip.fit()\n",
        "    factorizer_vip.print_results()\n",
        "\n",
        "    sol_vip=factorizer_vip.out()\n"
      ],
      "metadata": {
        "id": "ce7xtY3x5UEP"
      },
      "execution_count": null,
      "outputs": []
    },
    {
      "cell_type": "code",
      "source": [
        "# 3.799^-5 user latent, item latent, final R\n",
        "user_latent01=sol_vip[0]\n",
        "item_latent01=sol_vip[1]\n",
        "finalR01=sol_vip[2]"
      ],
      "metadata": {
        "id": "GCDI2hP8lLJC"
      },
      "execution_count": null,
      "outputs": []
    },
    {
      "cell_type": "code",
      "source": [
        "R_G3=scaler02_scaled\n",
        "R_G2=scaler03_scaled\n",
        "R_G1=scaler04_scaled"
      ],
      "metadata": {
        "id": "KDzM6Y8EjcF-"
      },
      "execution_count": null,
      "outputs": []
    },
    {
      "cell_type": "code",
      "source": [
        "# run train data\n",
        "if __name__ == \"__main__\":\n",
        "    # rating matrix - User X Item : (7 X 5) R\n",
        "\n",
        "    # P, Q is (7 X k), (k X 5) matrix\n",
        "    factorizer_G3 = MatrixFactorization(R_G3, k=4, learning_rate=0.01, reg_param=0.01, epochs=10, verbose=True)\n",
        "    factorizer_G3.fit()\n",
        "    factorizer_G3.print_results()\n",
        "\n",
        "    sol_G3=factorizer_G3.out()"
      ],
      "metadata": {
        "id": "BzkXrKKAjLPV"
      },
      "execution_count": null,
      "outputs": []
    },
    {
      "cell_type": "code",
      "source": [
        "# user latent, item latent, final R\n",
        "user_latent02=sol_G3[0]\n",
        "item_latent02=sol_G3[1]\n",
        "finalR02=sol_G3[2]"
      ],
      "metadata": {
        "id": "u2YPDX4Kl7Xf"
      },
      "execution_count": null,
      "outputs": []
    },
    {
      "cell_type": "code",
      "source": [
        "# run test data\n",
        "if __name__ == \"__main__\":\n",
        "    # rating matrix - User X Item : (7 X 5), R\n",
        "\n",
        "    # P, Q is (7 X k), (k X 5) matrix\n",
        "    factorizer_G2 = MatrixFactorization(R_G2, k=4, learning_rate=0.01, reg_param=0.01, epochs=10, verbose=True)\n",
        "    factorizer_G2.fit()\n",
        "    factorizer_G2.print_results()\n",
        "\n",
        "    sol_G2=factorizer_G2.out()"
      ],
      "metadata": {
        "id": "bFQZ6L6GjTTO"
      },
      "execution_count": null,
      "outputs": []
    },
    {
      "cell_type": "code",
      "source": [
        "# user latent, item latent, final R\n",
        "user_latent03=sol_G2[0]\n",
        "item_latent03=sol_G2[1]\n",
        "finalR03=sol_G2[2]"
      ],
      "metadata": {
        "id": "Vv3aqEjrFw2r"
      },
      "execution_count": null,
      "outputs": []
    },
    {
      "cell_type": "code",
      "source": [
        "# run test data\n",
        "if __name__ == \"__main__\":\n",
        "    # rating matrix - User X Item : (7 X 5), R\n",
        "\n",
        "    # P, Q is (7 X k), (k X 5) matrix\n",
        "    factorizer_G1 = MatrixFactorization(R_G1, k=4, learning_rate=0.1, reg_param=0.1, epochs=10, verbose=True)\n",
        "    factorizer_G1.fit()\n",
        "    factorizer_G1.print_results()\n",
        "\n",
        "    sol_G1=factorizer_G1.out()"
      ],
      "metadata": {
        "id": "0Gf7YKNOX-h4"
      },
      "execution_count": null,
      "outputs": []
    },
    {
      "cell_type": "code",
      "source": [
        "# user latent, item latent, final R\n",
        "user_latent04=sol_G1[0]\n",
        "item_latent04=sol_G1[1]\n",
        "finalR04=sol_G1[2]"
      ],
      "metadata": {
        "id": "OAg8WZPsX-b5"
      },
      "execution_count": null,
      "outputs": []
    },
    {
      "cell_type": "markdown",
      "source": [
        "## Save Results"
      ],
      "metadata": {
        "id": "cYCpYC1xL6tp"
      }
    },
    {
      "cell_type": "code",
      "source": [
        "# inverse Minmax\n",
        "finalR01_ori = scaler01.inverse_transform(finalR01)\n",
        "finalR02_ori = scaler02.inverse_transform(finalR02)\n",
        "finalR03_ori = scaler03.inverse_transform(finalR03)\n",
        "finalR04_ori = scaler04.inverse_transform(finalR04)"
      ],
      "metadata": {
        "id": "RwUgSqoqrh5Q"
      },
      "execution_count": null,
      "outputs": []
    },
    {
      "cell_type": "code",
      "source": [
        "#np.savetxt(\"/content/drive/Shareddrives/22SummerProjects/LPoint/Clustering/online_VIP.csv\", finalR01, delimiter=\",\")"
      ],
      "metadata": {
        "id": "uXLw79sCN31g"
      },
      "execution_count": null,
      "outputs": []
    },
    {
      "cell_type": "code",
      "source": [
        "#np.savetxt(\"/content/drive/Shareddrives/22SummerProjects/LPoint/Clustering/online_G3.csv\", finalR02, delimiter=\",\")"
      ],
      "metadata": {
        "id": "G_FVgJAqdfQD"
      },
      "execution_count": null,
      "outputs": []
    },
    {
      "cell_type": "code",
      "source": [
        "#np.savetxt(\"/content/drive/Shareddrives/22SummerProjects/LPoint/Clustering/online_G2.csv\", finalR03, delimiter=\",\")"
      ],
      "metadata": {
        "id": "mP6h7BNQM6YX"
      },
      "execution_count": null,
      "outputs": []
    },
    {
      "cell_type": "code",
      "source": [
        "#np.savetxt(\"/content/drive/Shareddrives/22SummerProjects/LPoint/Clustering/online_G1.csv\", finalR04, delimiter=\",\")"
      ],
      "metadata": {
        "id": "xYPPrr0xNDL4"
      },
      "execution_count": null,
      "outputs": []
    },
    {
      "cell_type": "code",
      "source": [
        "#np.savetxt(\"/content/drive/Shareddrives/22SummerProjects/LPoint/Clustering/online_VIP_ori.csv\", finalR01_ori, delimiter=\",\")"
      ],
      "metadata": {
        "id": "VmE314rzIN3Z"
      },
      "execution_count": null,
      "outputs": []
    },
    {
      "cell_type": "code",
      "source": [
        "np.savetxt(\"/content/drive/Shareddrives/22SummerProjects/LPoint/Clustering/online_G3_ori.csv\", finalR02_ori, delimiter=\",\")"
      ],
      "metadata": {
        "id": "B_YdbkuK99Yr"
      },
      "execution_count": null,
      "outputs": []
    },
    {
      "cell_type": "code",
      "source": [
        "np.savetxt(\"/content/drive/Shareddrives/22SummerProjects/LPoint/Clustering/online_G2_ori.csv\", finalR03_ori, delimiter=\",\")"
      ],
      "metadata": {
        "id": "57uYDmYd99Rr"
      },
      "execution_count": null,
      "outputs": []
    },
    {
      "cell_type": "code",
      "source": [
        "np.savetxt(\"/content/drive/Shareddrives/22SummerProjects/LPoint/Clustering/online_G1_ori.csv\", finalR04_ori, delimiter=\",\")"
      ],
      "metadata": {
        "id": "2PeMjqJASAlc"
      },
      "execution_count": null,
      "outputs": []
    }
  ]
}